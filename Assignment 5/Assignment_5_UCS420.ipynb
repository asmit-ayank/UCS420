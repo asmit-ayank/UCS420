{
  "nbformat": 4,
  "nbformat_minor": 0,
  "metadata": {
    "colab": {
      "provenance": [],
      "authorship_tag": "ABX9TyOXgwWQtBkIljgLLh5wer7U",
      "include_colab_link": true
    },
    "kernelspec": {
      "name": "python3",
      "display_name": "Python 3"
    },
    "language_info": {
      "name": "python"
    }
  },
  "cells": [
    {
      "cell_type": "markdown",
      "metadata": {
        "id": "view-in-github",
        "colab_type": "text"
      },
      "source": [
        "<a href=\"https://colab.research.google.com/github/asmit-ayank/UCS420/blob/main/Assignment%205/Assignment_5_UCS420.ipynb\" target=\"_parent\"><img src=\"https://colab.research.google.com/assets/colab-badge.svg\" alt=\"Open In Colab\"/></a>"
      ]
    },
    {
      "cell_type": "markdown",
      "source": [
        "Q.1 For the array gfg = np.matrix('[4, 1, 9; 12, 3, 1; 4, 5, 6]'),\n",
        "\n",
        "Find\n",
        "i. Sum of all elements\n",
        "ii. Sum of all elements row-wise\n",
        "iii. Sum of all elements column-wise"
      ],
      "metadata": {
        "id": "fHSb4lvXykkU"
      }
    },
    {
      "cell_type": "code",
      "source": [
        "import numpy as np\n",
        "import matplotlib.pyplot as plt\n",
        "\n",
        "gfg = np.matrix('[4, 1, 9; 12, 3, 1; 4, 5, 6]')\n",
        "print(\"Matrix:\")\n",
        "print(gfg)\n",
        "print(\"Sum of all elements:\", gfg.sum())\n",
        "print(\"Sum of elements row-wise:\", gfg.sum(axis=1).flatten().tolist()[0])\n",
        "print(\"Sum of elements column-wise:\", gfg.sum(axis=0).flatten().tolist()[0])"
      ],
      "metadata": {
        "id": "Y1f7_cicyoAk",
        "colab": {
          "base_uri": "https://localhost:8080/"
        },
        "outputId": "3d935239-0887-4f16-af25-60c684c02e58"
      },
      "execution_count": 2,
      "outputs": [
        {
          "output_type": "stream",
          "name": "stdout",
          "text": [
            "Matrix:\n",
            "[[ 4  1  9]\n",
            " [12  3  1]\n",
            " [ 4  5  6]]\n",
            "Sum of all elements: 45\n",
            "Sum of elements row-wise: [14, 16, 15]\n",
            "Sum of elements column-wise: [20, 9, 16]\n"
          ]
        }
      ]
    },
    {
      "cell_type": "markdown",
      "source": [
        "Q.2 (a)For the array: array = np.array([10, 52, 62, 16, 16, 54, 453]),\n",
        "\n",
        "find\n",
        "i. Sorted array\n",
        "ii. Indices of sorted array\n",
        "iii. 4 smallest elements\n",
        "iv. 5 largest elements\n",
        "\n",
        "\n",
        "(b) For the array: array = np.array([1.0, 1.2, 2.2, 2.0, 3.0, 2.0]),\n",
        "\n",
        "find\n",
        "i. Integer elements only\n",
        "ii. Float elements only"
      ],
      "metadata": {
        "id": "Uo3YFQ7my4yz"
      }
    },
    {
      "cell_type": "code",
      "source": [
        "#Q.2(a)\n",
        "array = np.array([10, 52, 62, 16, 16, 54, 453])\n",
        "print(\"Original array:\", array)\n",
        "print(\"Sorted array:\", np.sort(array))\n",
        "print(\"Indices of sorted array:\", np.argsort(array))\n",
        "print(\"4 smallest elements:\", np.sort(array)[:4])\n",
        "print(\"5 largest elements:\", np.sort(array)[-5:])"
      ],
      "metadata": {
        "colab": {
          "base_uri": "https://localhost:8080/"
        },
        "id": "GnAB78tozBFU",
        "outputId": "4f4dcd4b-fc2e-4ece-c599-dd6b5dff23cd"
      },
      "execution_count": 3,
      "outputs": [
        {
          "output_type": "stream",
          "name": "stdout",
          "text": [
            "Original array: [ 10  52  62  16  16  54 453]\n",
            "Sorted array: [ 10  16  16  52  54  62 453]\n",
            "Indices of sorted array: [0 3 4 1 5 2 6]\n",
            "4 smallest elements: [10 16 16 52]\n",
            "5 largest elements: [ 16  52  54  62 453]\n"
          ]
        }
      ]
    },
    {
      "cell_type": "code",
      "source": [
        "#Q.2(b)\n",
        "array_f = np.array([1.0, 1.2, 2.2, 2.0, 3.0, 2.0])\n",
        "print(\"Original float array:\", array_f)\n",
        "print(\"Integer elements only:\", array_f[array_f == array_f.astype(int)])\n",
        "print(\"Float elements only:\", array_f[array_f != array_f.astype(int)])"
      ],
      "metadata": {
        "colab": {
          "base_uri": "https://localhost:8080/"
        },
        "id": "RhgauuWKzICj",
        "outputId": "7f1958d9-99c6-421e-a5f2-493214320b1d"
      },
      "execution_count": 4,
      "outputs": [
        {
          "output_type": "stream",
          "name": "stdout",
          "text": [
            "Original float array: [1.  1.2 2.2 2.  3.  2. ]\n",
            "Integer elements only: [1. 2. 3. 2.]\n",
            "Float elements only: [1.2 2.2]\n"
          ]
        }
      ]
    },
    {
      "cell_type": "markdown",
      "source": [
        "Q.3 You are given a weekly sales dataset and need to perform various operations\n",
        "using NumPy broadcasting.\n",
        "\n",
        "a) Generate your unique sales dataset:\n",
        " Take the sum of the ASCII values of the initials of your first and last\n",
        "name. Call this value X. (If your initials are A B → ASCII sum = 65\n",
        "+ 66 = 131 → sales = [131, 181, 231, 281, 331].)\n",
        " Create a NumPy array sales with values [X, X+50, X+100, X+150,\n",
        "X+200].\n",
        "\n",
        "b) Compute your personalized tax rate as ((X % 5) + 5) / 100.\n",
        " Use broadcasting to apply this tax rate to each sales value.\n",
        "\n",
        "c) Adjust sales based on discount:\n",
        " If sales < X+100, apply a 5% discount.\n",
        " If sales >= X+100, apply a 10% discount.\n",
        "\n",
        "d) Expand sales data for multiple weeks:\n",
        " Create a 3×5 matrix representing three weeks of sales by stacking\n",
        "sales three times using broadcasting.\n",
        " Increase sales by 2% per week using element-wise broadcasting."
      ],
      "metadata": {
        "id": "N0SRaIhszOtj"
      }
    },
    {
      "cell_type": "code",
      "source": [
        "initials_ascii_sum = sum(map(ord, \"GD\"))\n",
        "X = initials_ascii_sum\n",
        "sales = np.array([X, X+50, X+100, X+150, X+200])\n",
        "print(\"Generated sales data:\", sales)\n",
        "\n",
        "tax_rate = ((X % 5) + 5) / 100\n",
        "sales_after_tax = sales * (1 + tax_rate)\n",
        "print(\"Sales after tax:\", sales_after_tax)\n",
        "\n",
        "sales_discounted = np.where(sales < X+100, sales * 0.95, sales * 0.90)\n",
        "print(\"Sales after discount:\", sales_discounted)\n",
        "\n",
        "sales_matrix = np.vstack([sales] * 3)\n",
        "sales_matrix = sales_matrix * np.array([1.00, 1.02, 1.04])[:, None]\n",
        "print(\"Sales matrix after weekly increase:\")\n",
        "print(sales_matrix)"
      ],
      "metadata": {
        "colab": {
          "base_uri": "https://localhost:8080/"
        },
        "id": "eJBO0BgjzTxj",
        "outputId": "ecffd94f-4253-40bf-c446-7fc8bb85d31f"
      },
      "execution_count": 5,
      "outputs": [
        {
          "output_type": "stream",
          "name": "stdout",
          "text": [
            "Generated sales data: [139 189 239 289 339]\n",
            "Sales after tax: [151.51 206.01 260.51 315.01 369.51]\n",
            "Sales after discount: [132.05 179.55 215.1  260.1  305.1 ]\n",
            "Sales matrix after weekly increase:\n",
            "[[139.   189.   239.   289.   339.  ]\n",
            " [141.78 192.78 243.78 294.78 345.78]\n",
            " [144.56 196.56 248.56 300.56 352.56]]\n"
          ]
        }
      ]
    },
    {
      "cell_type": "markdown",
      "source": [
        "Q4. Generate x values using np.linspace() from -10 to 10 with 100 points. Use\n",
        "each function from the list below and compute y values using NumPy:\n",
        "\n",
        "\n",
        "*   Y = x2\n",
        "*   Y = sin(x)\n",
        "*   Y = ex\n",
        "*   Y = log(|x| + 1)\n",
        "\n",
        "Plot the chosen function using Matplotlib. Add title, labels, and grid for clarity."
      ],
      "metadata": {
        "id": "IkSEYFqKzZNK"
      }
    },
    {
      "cell_type": "code",
      "source": [
        "x = np.linspace(-10, 10, 100)\n",
        "y1 = x**2\n",
        "y2 = np.sin(x)\n",
        "y3 = np.exp(x)\n",
        "y4 = np.log(np.abs(x) + 1)\n",
        "\n",
        "plt.figure(figsize=(10, 6))\n",
        "plt.plot(x, y1, label=\"y = x^2\")\n",
        "plt.plot(x, y2, label=\"y = sin(x)\")\n",
        "plt.plot(x, y3, label=\"y = e^x\")\n",
        "plt.plot(x, y4, label=\"y = log(|x| + 1)\")\n",
        "plt.title(\"Function Plots\")\n",
        "plt.xlabel(\"x values\")\n",
        "plt.ylabel(\"y values\")\n",
        "plt.legend()\n",
        "plt.grid()\n",
        "plt.show()"
      ],
      "metadata": {
        "colab": {
          "base_uri": "https://localhost:8080/",
          "height": 564
        },
        "id": "7GFl3QyJzeaj",
        "outputId": "1de1fb68-5189-4888-8384-e2fdbccdccab"
      },
      "execution_count": 6,
      "outputs": [
        {
          "output_type": "display_data",
          "data": {
            "text/plain": [
              "<Figure size 1000x600 with 1 Axes>"
            ],
            "image/png": "[encoded data removed]"
          },
          "metadata": {}
        }
      ]
    }
  ]
}