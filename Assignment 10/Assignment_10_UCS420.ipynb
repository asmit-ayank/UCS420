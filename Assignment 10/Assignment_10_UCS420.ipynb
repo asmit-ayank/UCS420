{
  "nbformat": 4,
  "nbformat_minor": 0,
  "metadata": {
    "colab": {
      "provenance": [],
      "authorship_tag": "ABX9TyNSU/X7qEZyHSEvAJpgrt8j",
      "include_colab_link": true
    },
    "kernelspec": {
      "name": "python3",
      "display_name": "Python 3"
    },
    "language_info": {
      "name": "python"
    }
  },
  "cells": [
    {
      "cell_type": "markdown",
      "metadata": {
        "id": "view-in-github",
        "colab_type": "text"
      },
      "source": [
        "<a href=\"https://colab.research.google.com/github/asmit-ayank/UCS420/blob/main/Assignment%2010/Assignment_10_UCS420.ipynb\" target=\"_parent\"><img src=\"https://colab.research.google.com/assets/colab-badge.svg\" alt=\"Open In Colab\"/></a>"
      ]
    },
    {
      "cell_type": "markdown",
      "source": [
        "**Q1. Write a unique paragraph (5-6 sentences) about your favorite topic (e.g., sports,\n",
        "technology, food, books, etc.).**\n",
        "1. Convert text to lowercase and remove punctution using re.\n",
        "2. Tokenize the text into words and sentences.\n",
        "3. Split using split() and word_tokenize() and compare how Python split and NLTK’s\n",
        "word_tokenize() differ.\n",
        "4. Remove stopwords (using NLTK's stopwords list).\n",
        "5. Display word frequency distribution (excluding stopwords)."
      ],
      "metadata": {
        "id": "mVcgcV6_BFls"
      }
    },
    {
      "cell_type": "code",
      "execution_count": 7,
      "metadata": {
        "colab": {
          "base_uri": "https://localhost:8080/"
        },
        "id": "z-4G0CNLAuuQ",
        "outputId": "fd5fcdc8-9368-413d-d9cc-01f2b2296a42"
      },
      "outputs": [
        {
          "output_type": "stream",
          "name": "stderr",
          "text": [
            "[nltk_data] Downloading package punkt_tab to /root/nltk_data...\n",
            "[nltk_data]   Unzipping tokenizers/punkt_tab.zip.\n",
            "[nltk_data] Downloading package punkt to /root/nltk_data...\n",
            "[nltk_data]   Package punkt is already up-to-date!\n",
            "[nltk_data] Downloading package stopwords to /root/nltk_data...\n",
            "[nltk_data]   Package stopwords is already up-to-date!\n"
          ]
        }
      ],
      "source": [
        "import re\n",
        "import nltk\n",
        "from nltk.tokenize import word_tokenize, sent_tokenize\n",
        "from nltk.corpus import stopwords\n",
        "from collections import Counter\n",
        "\n",
        "nltk.download('punkt_tab')\n",
        "nltk.download('punkt')\n",
        "nltk.download('stopwords')\n",
        "\n",
        "text = \"I love learning about machine learning. It's an exciting field with endless possibilities!\""
      ]
    },
    {
      "cell_type": "code",
      "source": [
        "#1.\n",
        "text_cleaned = re.sub(r'[^\\w\\s]', '', text.lower())\n",
        "print(text_cleaned)"
      ],
      "metadata": {
        "colab": {
          "base_uri": "https://localhost:8080/"
        },
        "id": "pv2iZci3GIiO",
        "outputId": "99c1078a-ffad-4769-afcf-73dea8b9c9b2"
      },
      "execution_count": 8,
      "outputs": [
        {
          "output_type": "stream",
          "name": "stdout",
          "text": [
            "i love learning about machine learning its an exciting field with endless possibilities\n"
          ]
        }
      ]
    },
    {
      "cell_type": "code",
      "source": [
        "#2.\n",
        "word_tokens = word_tokenize(text_cleaned)\n",
        "sentence_tokens = sent_tokenize(text)\n",
        "print(\"Word Tokens:\", word_tokens)\n",
        "print(\"Sentences:\", sentence_tokens)"
      ],
      "metadata": {
        "colab": {
          "base_uri": "https://localhost:8080/"
        },
        "id": "M7xzCHS7GU5P",
        "outputId": "6b99de1e-ab27-4b9c-f999-3b701d947b0f"
      },
      "execution_count": 9,
      "outputs": [
        {
          "output_type": "stream",
          "name": "stdout",
          "text": [
            "Word Tokens: ['i', 'love', 'learning', 'about', 'machine', 'learning', 'its', 'an', 'exciting', 'field', 'with', 'endless', 'possibilities']\n",
            "Sentences: ['I love learning about machine learning.', \"It's an exciting field with endless possibilities!\"]\n"
          ]
        }
      ]
    },
    {
      "cell_type": "code",
      "source": [
        "#3.\n",
        "split_words = text_cleaned.split()\n",
        "word_tokens_nltk = nltk.word_tokenize(text_cleaned)\n",
        "print(\"Split:\", split_words)\n",
        "print(\"Tokens using word_tokenize():\", word_tokens_nltk)"
      ],
      "metadata": {
        "colab": {
          "base_uri": "https://localhost:8080/"
        },
        "id": "99tuznXJG2vX",
        "outputId": "6cc05e2b-480b-435f-e758-b900ab177d2b"
      },
      "execution_count": 10,
      "outputs": [
        {
          "output_type": "stream",
          "name": "stdout",
          "text": [
            "Split: ['i', 'love', 'learning', 'about', 'machine', 'learning', 'its', 'an', 'exciting', 'field', 'with', 'endless', 'possibilities']\n",
            "Tokens using word_tokenize(): ['i', 'love', 'learning', 'about', 'machine', 'learning', 'its', 'an', 'exciting', 'field', 'with', 'endless', 'possibilities']\n"
          ]
        }
      ]
    },
    {
      "cell_type": "code",
      "source": [
        "#4.\n",
        "stop_words = set(stopwords.words('english'))\n",
        "filtered = [w for w in word_tokens if w not in stop_words]\n",
        "print(\"Without Stopwords:\", filtered)"
      ],
      "metadata": {
        "colab": {
          "base_uri": "https://localhost:8080/"
        },
        "id": "FJPXXrPeHR1v",
        "outputId": "39b2348b-5b46-440d-cdc8-04d555356457"
      },
      "execution_count": 11,
      "outputs": [
        {
          "output_type": "stream",
          "name": "stdout",
          "text": [
            "Without Stopwords: ['love', 'learning', 'machine', 'learning', 'exciting', 'field', 'endless', 'possibilities']\n"
          ]
        }
      ]
    },
    {
      "cell_type": "code",
      "source": [
        "#5.\n",
        "freq = Counter(filtered)\n",
        "print(\"Frequency:\", freq)"
      ],
      "metadata": {
        "colab": {
          "base_uri": "https://localhost:8080/"
        },
        "id": "7a2z7DmfHaHV",
        "outputId": "46f48e75-3071-40cd-f5ff-e8b54270dadf"
      },
      "execution_count": 12,
      "outputs": [
        {
          "output_type": "stream",
          "name": "stdout",
          "text": [
            "Frequency: Counter({'learning': 2, 'love': 1, 'machine': 1, 'exciting': 1, 'field': 1, 'endless': 1, 'possibilities': 1})\n"
          ]
        }
      ]
    },
    {
      "cell_type": "markdown",
      "source": [
        "**Q2. Using the same paragraph from Q1:**\n",
        "1. Extract all words with only alphabets using re.findall()\n",
        "2. Remove stop words using NLTK’s stopword list\n",
        "3. Perform stemming with PorterStemmer\n",
        "4. Perform lemmaƟzaƟon with WordNetLemmaƟzer\n",
        "5. Compare the stemmed and lemmaƟzed outputs and explain when you’d prefer one over\n",
        "the other."
      ],
      "metadata": {
        "id": "Ceuhcx_lHkGm"
      }
    },
    {
      "cell_type": "code",
      "source": [
        "#1.\n",
        "import re\n",
        "words_only_alpha = re.findall(r'\\b[a-zA-Z]+\\b', text.lower())\n",
        "print(\"Words with only alphabets:\", words_only_alpha)"
      ],
      "metadata": {
        "colab": {
          "base_uri": "https://localhost:8080/"
        },
        "id": "tLjkyWvGHqB9",
        "outputId": "915253b2-0750-4dab-d8c9-1683912fc6e7"
      },
      "execution_count": 13,
      "outputs": [
        {
          "output_type": "stream",
          "name": "stdout",
          "text": [
            "Words with only alphabets: ['i', 'love', 'learning', 'about', 'machine', 'learning', 'it', 's', 'an', 'exciting', 'field', 'with', 'endless', 'possibilities']\n"
          ]
        }
      ]
    },
    {
      "cell_type": "code",
      "source": [
        "#2.\n",
        "from nltk.corpus import stopwords\n",
        "nltk.download('stopwords')\n",
        "stop_words = set(stopwords.words('english'))\n",
        "filtered_alpha_words = [word for word in words_only_alpha if word not in stop_words]\n",
        "print(\"Filtered words without stopwords:\", filtered_alpha_words)"
      ],
      "metadata": {
        "colab": {
          "base_uri": "https://localhost:8080/"
        },
        "id": "bWfeoMcrISMe",
        "outputId": "1459d244-df40-4e0e-bf7c-8512304e765a"
      },
      "execution_count": 14,
      "outputs": [
        {
          "output_type": "stream",
          "name": "stdout",
          "text": [
            "Filtered words without stopwords: ['love', 'learning', 'machine', 'learning', 'exciting', 'field', 'endless', 'possibilities']\n"
          ]
        },
        {
          "output_type": "stream",
          "name": "stderr",
          "text": [
            "[nltk_data] Downloading package stopwords to /root/nltk_data...\n",
            "[nltk_data]   Package stopwords is already up-to-date!\n"
          ]
        }
      ]
    },
    {
      "cell_type": "code",
      "source": [
        "#3.\n",
        "from nltk.stem import PorterStemmer\n",
        "stemmer = PorterStemmer()\n",
        "stemmed_words = [stemmer.stem(word) for word in filtered_alpha_words]\n",
        "print(\"Stemmed words:\", stemmed_words)"
      ],
      "metadata": {
        "colab": {
          "base_uri": "https://localhost:8080/"
        },
        "id": "grXZUAutIfYM",
        "outputId": "73359924-b9a6-4fc7-eb0a-959e64f0fb26"
      },
      "execution_count": 15,
      "outputs": [
        {
          "output_type": "stream",
          "name": "stdout",
          "text": [
            "Stemmed words: ['love', 'learn', 'machin', 'learn', 'excit', 'field', 'endless', 'possibl']\n"
          ]
        }
      ]
    },
    {
      "cell_type": "code",
      "source": [
        "#4.\n",
        "from nltk.stem import WordNetLemmatizer\n",
        "nltk.download('wordnet')\n",
        "lemmatizer = WordNetLemmatizer()\n",
        "lemmatized_words = [lemmatizer.lemmatize(word) for word in filtered_alpha_words]\n",
        "print(\"Lemmatized words:\", lemmatized_words)"
      ],
      "metadata": {
        "colab": {
          "base_uri": "https://localhost:8080/"
        },
        "id": "mfPuU0hDImI8",
        "outputId": "e962e739-4190-4bfe-a9af-a4b3c0235ade"
      },
      "execution_count": 16,
      "outputs": [
        {
          "output_type": "stream",
          "name": "stderr",
          "text": [
            "[nltk_data] Downloading package wordnet to /root/nltk_data...\n"
          ]
        },
        {
          "output_type": "stream",
          "name": "stdout",
          "text": [
            "Lemmatized words: ['love', 'learning', 'machine', 'learning', 'exciting', 'field', 'endless', 'possibility']\n"
          ]
        }
      ]
    },
    {
      "cell_type": "code",
      "source": [
        "#5.\n",
        "for stem, lemma in zip(stemmed_words, lemmatized_words):\n",
        " print(f\"Stemmed: {stem}, Lemmatized: {lemma}\")"
      ],
      "metadata": {
        "colab": {
          "base_uri": "https://localhost:8080/"
        },
        "id": "COVuQG6aIryk",
        "outputId": "1a261f1c-1cfb-48d7-83a3-249a2c3faf06"
      },
      "execution_count": 17,
      "outputs": [
        {
          "output_type": "stream",
          "name": "stdout",
          "text": [
            "Stemmed: love, Lemmatized: love\n",
            "Stemmed: learn, Lemmatized: learning\n",
            "Stemmed: machin, Lemmatized: machine\n",
            "Stemmed: learn, Lemmatized: learning\n",
            "Stemmed: excit, Lemmatized: exciting\n",
            "Stemmed: field, Lemmatized: field\n",
            "Stemmed: endless, Lemmatized: endless\n",
            "Stemmed: possibl, Lemmatized: possibility\n"
          ]
        }
      ]
    },
    {
      "cell_type": "markdown",
      "source": [
        "**Q3. Choose 3 short texts of your own (e.g., different news headlines, product reviews).**\n",
        "1. Use CountVectorizer to generate the Bag of Words representaƟon.\n",
        "2. Use TfidfVectorizer to compute TF-IDF scores.\n",
        "3. Print and interpret the top 3 keywords from each text using TF-IDF."
      ],
      "metadata": {
        "id": "i64B-0euI-g8"
      }
    },
    {
      "cell_type": "code",
      "source": [
        "texts = [\n",
        "    \"Machine learning is amazing and powerful.\",\n",
        "    \"Python makes machine learning easier.\",\n",
        "    \"I love learning machine learning!\"\n",
        "]"
      ],
      "metadata": {
        "id": "L3T54S-tJAvb"
      },
      "execution_count": 18,
      "outputs": []
    },
    {
      "cell_type": "code",
      "source": [
        "#1.\n",
        "from sklearn.feature_extraction.text import CountVectorizer\n",
        "count_vectorizer = CountVectorizer()\n",
        "bag_of_words = count_vectorizer.fit_transform(texts)\n",
        "words = count_vectorizer.get_feature_names_out()\n",
        "bag_of_words_array = bag_of_words.toarray()\n",
        "\n",
        "print(\"Bag of Words Representation (CountVectorizer):\")\n",
        "print(bag_of_words_array)\n",
        "print(\"Words (features):\", words)"
      ],
      "metadata": {
        "colab": {
          "base_uri": "https://localhost:8080/"
        },
        "id": "iXJKWCPudjmm",
        "outputId": "03a3805b-7275-43b3-aa5c-a3452a2499ca"
      },
      "execution_count": 21,
      "outputs": [
        {
          "output_type": "stream",
          "name": "stdout",
          "text": [
            "Bag of Words Representation (CountVectorizer):\n",
            "[[1 1 0 1 1 0 1 0 1 0]\n",
            " [0 0 1 0 1 0 1 1 0 1]\n",
            " [0 0 0 0 2 1 1 0 0 0]]\n",
            "Words (features): ['amazing' 'and' 'easier' 'is' 'learning' 'love' 'machine' 'makes'\n",
            " 'powerful' 'python']\n"
          ]
        }
      ]
    },
    {
      "cell_type": "code",
      "source": [
        "#2.\n",
        "from sklearn.feature_extraction.text import TfidfVectorizer\n",
        "tfidf_vectorizer = TfidfVectorizer()\n",
        "tfidf_matrix = tfidf_vectorizer.fit_transform(texts)\n",
        "tfidf_words = tfidf_vectorizer.get_feature_names_out()\n",
        "tfidf_array = tfidf_matrix.toarray()\n",
        "\n",
        "print(\"\\nTF-IDF Scores (TfidfVectorizer):\")\n",
        "print(tfidf_array)\n",
        "print(\"Words (features):\", tfidf_words)"
      ],
      "metadata": {
        "colab": {
          "base_uri": "https://localhost:8080/"
        },
        "id": "3229RmNpeOrv",
        "outputId": "ab593b50-bc4e-41ca-cf53-8d89195c69d6"
      },
      "execution_count": 22,
      "outputs": [
        {
          "output_type": "stream",
          "name": "stdout",
          "text": [
            "\n",
            "TF-IDF Scores (TfidfVectorizer):\n",
            "[[0.46138073 0.46138073 0.         0.46138073 0.27249889 0.\n",
            "  0.27249889 0.         0.46138073 0.        ]\n",
            " [0.         0.         0.52004008 0.         0.30714405 0.\n",
            "  0.30714405 0.52004008 0.         0.52004008]\n",
            " [0.         0.         0.         0.         0.71307037 0.60366655\n",
            "  0.35653519 0.         0.         0.        ]]\n",
            "Words (features): ['amazing' 'and' 'easier' 'is' 'learning' 'love' 'machine' 'makes'\n",
            " 'powerful' 'python']\n"
          ]
        }
      ]
    },
    {
      "cell_type": "code",
      "source": [
        "#3.\n",
        "import numpy as np\n",
        "\n",
        "print(\"\\nTop 3 Keywords Using TF-IDF:\")\n",
        "\n",
        "for i, text in enumerate(texts):\n",
        "    tfidf_scores = tfidf_array[i]\n",
        "\n",
        "    top_3_indices = np.argsort(tfidf_scores)[::-1][:3]\n",
        "\n",
        "    top_3_keywords = [tfidf_words[index] for index in top_3_indices]\n",
        "\n",
        "    print(f\"Text {i+1}: '{text}'\")\n",
        "    print(\"Top 3 Keywords:\", top_3_keywords)\n",
        "    print()"
      ],
      "metadata": {
        "colab": {
          "base_uri": "https://localhost:8080/"
        },
        "id": "4DDpImcueZnb",
        "outputId": "e144d202-a3df-4bc1-da93-0dff69dde4df"
      },
      "execution_count": 23,
      "outputs": [
        {
          "output_type": "stream",
          "name": "stdout",
          "text": [
            "\n",
            "Top 3 Keywords Using TF-IDF:\n",
            "Text 1: 'Machine learning is amazing and powerful.'\n",
            "Top 3 Keywords: ['powerful', 'and', 'is']\n",
            "\n",
            "Text 2: 'Python makes machine learning easier.'\n",
            "Top 3 Keywords: ['python', 'makes', 'easier']\n",
            "\n",
            "Text 3: 'I love learning machine learning!'\n",
            "Top 3 Keywords: ['learning', 'love', 'machine']\n",
            "\n"
          ]
        }
      ]
    },
    {
      "cell_type": "markdown",
      "source": [
        "Q4. Write 2 short texts (4–6 lines each) describing two different technologies (e.g., AI vs\n",
        "Blockchain).\n",
        "1. Preprocess and tokenize both texts.\n",
        "2. Calculate:\n",
        "\n",
        " a. Jaccard Similarity using sets\n",
        "\n",
        " b. Cosine Similarity using TfidfVectorizer + cosine_similarity()\n",
        "\n",
        " c. Analyze which similarity metric gives beƩer insights in your case."
      ],
      "metadata": {
        "id": "Jl9LeVMxeoQD"
      }
    },
    {
      "cell_type": "code",
      "source": [
        "txt1 = \"Machine learning is fun and exciting\"\n",
        "txt2 = \"Learning about machine intelligence is cool\""
      ],
      "metadata": {
        "id": "oL8PzSvgevOZ"
      },
      "execution_count": 24,
      "outputs": []
    },
    {
      "cell_type": "code",
      "source": [
        "#1.\n",
        "import nltk\n",
        "import re\n",
        "from nltk.tokenize import word_tokenize\n",
        "\n",
        "nltk.download('punkt_tab')\n",
        "\n",
        "def preprocess_and_tokenize(text):\n",
        "    text_clean = re.sub(r'[^\\w\\s]', '', text.lower())\n",
        "    tokens = word_tokenize(text_clean)\n",
        "    return tokens\n",
        "\n",
        "tokens_text1 = preprocess_and_tokenize(txt1)\n",
        "tokens_text2 = preprocess_and_tokenize(txt2)\n",
        "\n",
        "print(\"Tokens for Text 1:\", tokens_text1)\n",
        "print(\"Tokens for Text 2:\", tokens_text2)"
      ],
      "metadata": {
        "colab": {
          "base_uri": "https://localhost:8080/"
        },
        "id": "6DlMdmTue6H7",
        "outputId": "196fcce1-ae1e-40e8-8e86-84e53c146180"
      },
      "execution_count": 26,
      "outputs": [
        {
          "output_type": "stream",
          "name": "stdout",
          "text": [
            "Tokens for Text 1: ['machine', 'learning', 'is', 'fun', 'and', 'exciting']\n",
            "Tokens for Text 2: ['learning', 'about', 'machine', 'intelligence', 'is', 'cool']\n"
          ]
        },
        {
          "output_type": "stream",
          "name": "stderr",
          "text": [
            "[nltk_data] Downloading package punkt_tab to /root/nltk_data...\n",
            "[nltk_data]   Package punkt_tab is already up-to-date!\n"
          ]
        }
      ]
    },
    {
      "cell_type": "code",
      "source": [
        "#2.\n",
        "# a. Jaccard Similarity using sets\n",
        "set1 = set(txt1.lower().split()) # Changed text1 to txt1\n",
        "set2 = set(txt2.lower().split()) # Changed text2 to txt2\n",
        "jaccard_similarity = len(set1 & set2) / len(set1 | set2)\n",
        "\n",
        "\n",
        "# b. Cosine Similarity using TfidfVectorizer + cosine_similarity()\n",
        "from sklearn.feature_extraction.text import TfidfVectorizer\n",
        "from sklearn.metrics.pairwise import cosine_similarity\n",
        "\n",
        "vectorizer = TfidfVectorizer()\n",
        "vectors = vectorizer.fit_transform([txt1, txt2]) # Changed text1 and text2 to txt1 and txt2 respectively\n",
        "cosine_sim = cosine_similarity(vectors[0:1], vectors[1:2])[0][0]\n",
        "\n",
        "\n",
        "# c. Analyze which similarity metric gives beƩer insights in your case.\n",
        "import matplotlib.pyplot as plt\n",
        "\n",
        "similarity_scores = [jaccard_similarity, cosine_sim]\n",
        "labels = ['Jaccard Similarity', 'Cosine Similarity']\n",
        "\n",
        "plt.bar(labels, similarity_scores, color=['blue', 'green'])\n",
        "plt.title(\"Comparison of Similarity Metrics (AI vs Blockchain)\")\n",
        "plt.ylabel(\"Similarity Score\")\n",
        "plt.ylim(0, 1)\n",
        "plt.grid(axis='y', linestyle='--', alpha=0.6)\n",
        "plt.show()\n",
        "\n",
        "# Step 5: Print scores\n",
        "print(f\"Jaccard Similarity: {jaccard_similarity:.3f}\")\n",
        "print(f\"Cosine Similarity: {cosine_sim:.3f}\")\n",
        "\n",
        "# Step 6: Analysis\n",
        "if cosine_sim > jaccard_similarity:\n",
        "    print(\"✔️ Cosine similarity gives better insight here because it captures the difference in vocabulary and semantic context.\")\n",
        "else:\n",
        "    print(\"✔️ Jaccard similarity gives better insight in this case.\")"
      ],
      "metadata": {
        "colab": {
          "base_uri": "https://localhost:8080/",
          "height": 504
        },
        "id": "7MLN3kuTfHr_",
        "outputId": "d5a6a492-c3f2-45c5-848d-e834393c8f68"
      },
      "execution_count": 29,
      "outputs": [
        {
          "output_type": "display_data",
          "data": {
            "text/plain": [
              "<Figure size 640x480 with 1 Axes>"
            ],
            "image/png": "[encoded data removed]"
          },
          "metadata": {}
        },
        {
          "output_type": "stream",
          "name": "stdout",
          "text": [
            "Jaccard Similarity: 0.333\n",
            "Cosine Similarity: 0.336\n",
            "✔️ Cosine similarity gives better insight here because it captures the difference in vocabulary and semantic context.\n"
          ]
        }
      ]
    },
    {
      "cell_type": "markdown",
      "source": [
        "Q5. Write a short review for a product or service.\n",
        "1. Use TextBlob or VADER to find polarity & subjecƟvity for each review.\n",
        "2. Classify reviews into PosiƟve / NegaƟve / Neutral.\n",
        "3. Create a word cloud using the wordcloud library for all posiƟve reviews."
      ],
      "metadata": {
        "id": "uVw9hvgjf99S"
      }
    },
    {
      "cell_type": "code",
      "source": [
        "from textblob import TextBlob\n",
        "from wordcloud import WordCloud\n",
        "import matplotlib.pyplot as plt\n",
        "\n",
        "reviews = [\n",
        "    \"This app is excellent and very helpful.\",\n",
        "    \"It crashed and I lost all my data.\",\n",
        "    \"Average performance, nothing special.\",\n",
        "    \"The interface is clean and easy to use.\"\n",
        "]\n",
        "\n",
        "positive_text = \"\"\n",
        "for r in reviews:\n",
        "    blob = TextBlob(r)\n",
        "    sentiment = blob.sentiment.polarity\n",
        "    if sentiment > 0.1:\n",
        "        print(f\"Review: '{r}' → Positive ({sentiment:.2f})\")\n",
        "        positive_text += r + \" \"\n",
        "    elif sentiment < -0.1:\n",
        "        print(f\"Review: '{r}' → Negative ({sentiment:.2f})\")\n",
        "    else:\n",
        "        print(f\"Review: '{r}' → Neutral ({sentiment:.2f})\")\n",
        "\n",
        "# Word Cloud for Positive Reviews\n",
        "wordcloud = WordCloud(background_color='white').generate(positive_text)\n",
        "plt.imshow(wordcloud, interpolation='bilinear')\n",
        "plt.axis('off')\n",
        "plt.show()"
      ],
      "metadata": {
        "colab": {
          "base_uri": "https://localhost:8080/",
          "height": 354
        },
        "id": "YAVMYsnkf-b3",
        "outputId": "d9341397-a30a-4816-a75f-103dcbbf644d"
      },
      "execution_count": 30,
      "outputs": [
        {
          "output_type": "stream",
          "name": "stdout",
          "text": [
            "Review: 'This app is excellent and very helpful.' → Positive (0.60)\n",
            "Review: 'It crashed and I lost all my data.' → Neutral (0.00)\n",
            "Review: 'Average performance, nothing special.' → Positive (0.10)\n",
            "Review: 'The interface is clean and easy to use.' → Positive (0.40)\n"
          ]
        },
        {
          "output_type": "display_data",
          "data": {
            "text/plain": [
              "<Figure size 640x480 with 1 Axes>"
            ],
            "image/png": "[encoded data removed]"
          },
          "metadata": {}
        }
      ]
    },
    {
      "cell_type": "markdown",
      "source": [
        "Q6. Choose your own paragraph (~100 words) as training data.\n",
        "1. Tokenize text using Tokenizer() from keras.preprocessing.text\n",
        "2. Create input sequences and build a simple LSTM or Dense model\n",
        "3. Train the model and generate 2–3 new lines of text starƟng from any seed word you\n",
        "provide."
      ],
      "metadata": {
        "id": "wmQ123rbgLUC"
      }
    },
    {
      "cell_type": "code",
      "source": [
        "paragraph = \"\"\"\n",
        "Star Wars is a legendary science fiction saga created by George Lucas.\n",
        "The story follows the adventures of characters like Luke Skywalker, Princess Leia, and Darth Vader in a galaxy far, far away.\n",
        "The Force, a mysterious energy field, plays a central role in shaping the destinies of heroes and villains alike.\n",
        "The original trilogy, the prequels, and the sequels have captivated audiences worldwide.\n",
        "Lightsabers, epic space battles, and deep moral struggles make Star Wars a timeless tale of hope, redemption, and the eternal fight between good and evil.\n",
        "\"\"\""
      ],
      "metadata": {
        "id": "0DQFbQXThNNG"
      },
      "execution_count": 38,
      "outputs": []
    },
    {
      "cell_type": "code",
      "source": [
        "#1.\n",
        "from tensorflow.keras.preprocessing.text import Tokenizer\n",
        "from tensorflow.keras.preprocessing.sequence import pad_sequences\n",
        "import numpy as np\n",
        "\n",
        "tokenizer = Tokenizer()\n",
        "tokenizer.fit_on_texts([paragraph])\n",
        "\n",
        "total_words = len(tokenizer.word_index) + 1\n",
        "print(\"Total words:\", total_words)\n",
        "\n",
        "input_sequences = []\n",
        "for line in paragraph.split('.'):\n",
        "    tokens = tokenizer.texts_to_sequences([line])[0]\n",
        "    for i in range(1, len(tokens)):\n",
        "        n_gram_sequence = tokens[:i+1]\n",
        "        input_sequences.append(n_gram_sequence)\n",
        "\n",
        "max_sequence_len = max([len(x) for x in input_sequences])\n",
        "input_sequences = np.array(pad_sequences(input_sequences, maxlen=max_sequence_len, padding='pre'))\n",
        "\n",
        "xs, labels = input_sequences[:, :-1], input_sequences[:, -1]\n",
        "\n",
        "from tensorflow.keras.utils import to_categorical\n",
        "ys = to_categorical(labels, num_classes=total_words)"
      ],
      "metadata": {
        "colab": {
          "base_uri": "https://localhost:8080/"
        },
        "id": "NueESQN9hSqT",
        "outputId": "e3d2e073-1986-4d68-80d2-75f431c7078d"
      },
      "execution_count": 40,
      "outputs": [
        {
          "output_type": "stream",
          "name": "stdout",
          "text": [
            "Total words: 68\n"
          ]
        }
      ]
    },
    {
      "cell_type": "code",
      "source": [
        "#2.\n",
        "from tensorflow.keras.models import Sequential\n",
        "from tensorflow.keras.layers import Embedding, LSTM, Dense\n",
        "\n",
        "model = Sequential()\n",
        "model.add(Embedding(total_words, 64, input_length=max_sequence_len-1))\n",
        "model.add(LSTM(100))\n",
        "model.add(Dense(total_words, activation='softmax'))\n",
        "\n",
        "model.compile(loss='categorical_crossentropy', optimizer='adam', metrics=['accuracy'])\n",
        "model.summary()"
      ],
      "metadata": {
        "colab": {
          "base_uri": "https://localhost:8080/",
          "height": 273
        },
        "id": "fVCVHBlHi5mb",
        "outputId": "aea223b5-494c-43dd-8dac-1b3564e5d27a"
      },
      "execution_count": 41,
      "outputs": [
        {
          "output_type": "stream",
          "name": "stderr",
          "text": [
            "/usr/local/lib/python3.11/dist-packages/keras/src/layers/core/embedding.py:90: UserWarning: Argument `input_length` is deprecated. Just remove it.\n",
            "  warnings.warn(\n"
          ]
        },
        {
          "output_type": "display_data",
          "data": {
            "text/plain": [
              "\u001b[1mModel: \"sequential_1\"\u001b[0m\n"
            ],
            "text/html": [
              "<pre style=\"white-space:pre;overflow-x:auto;line-height:normal;font-family:Menlo,'DejaVu Sans Mono',consolas,'Courier New',monospace\"><span style=\"font-weight: bold\">Model: \"sequential_1\"</span>\n",
              "</pre>\n"
            ]
          },
          "metadata": {}
        },
        {
          "output_type": "display_data",
          "data": {
            "text/plain": [
              "┏━━━━━━━━━━━━━━━━━━━━━━━━━━━━━━━━━┳━━━━━━━━━━━━━━━━━━━━━━━━┳━━━━━━━━━━━━━━━┓\n",
              "┃\u001b[1m \u001b[0m\u001b[1mLayer (type)                   \u001b[0m\u001b[1m \u001b[0m┃\u001b[1m \u001b[0m\u001b[1mOutput Shape          \u001b[0m\u001b[1m \u001b[0m┃\u001b[1m \u001b[0m\u001b[1m      Param #\u001b[0m\u001b[1m \u001b[0m┃\n",
              "┡━━━━━━━━━━━━━━━━━━━━━━━━━━━━━━━━━╇━━━━━━━━━━━━━━━━━━━━━━━━╇━━━━━━━━━━━━━━━┩\n",
              "│ embedding_1 (\u001b[38;5;33mEmbedding\u001b[0m)         │ ?                      │   \u001b[38;5;34m0\u001b[0m (unbuilt) │\n",
              "├─────────────────────────────────┼────────────────────────┼───────────────┤\n",
              "│ lstm_1 (\u001b[38;5;33mLSTM\u001b[0m)                   │ ?                      │   \u001b[38;5;34m0\u001b[0m (unbuilt) │\n",
              "├─────────────────────────────────┼────────────────────────┼───────────────┤\n",
              "│ dense_2 (\u001b[38;5;33mDense\u001b[0m)                 │ ?                      │   \u001b[38;5;34m0\u001b[0m (unbuilt) │\n",
              "└─────────────────────────────────┴────────────────────────┴───────────────┘\n"
            ],
            "text/html": [
              "<pre style=\"white-space:pre;overflow-x:auto;line-height:normal;font-family:Menlo,'DejaVu Sans Mono',consolas,'Courier New',monospace\">┏━━━━━━━━━━━━━━━━━━━━━━━━━━━━━━━━━┳━━━━━━━━━━━━━━━━━━━━━━━━┳━━━━━━━━━━━━━━━┓\n",
              "┃<span style=\"font-weight: bold\"> Layer (type)                    </span>┃<span style=\"font-weight: bold\"> Output Shape           </span>┃<span style=\"font-weight: bold\">       Param # </span>┃\n",
              "┡━━━━━━━━━━━━━━━━━━━━━━━━━━━━━━━━━╇━━━━━━━━━━━━━━━━━━━━━━━━╇━━━━━━━━━━━━━━━┩\n",
              "│ embedding_1 (<span style=\"color: #0087ff; text-decoration-color: #0087ff\">Embedding</span>)         │ ?                      │   <span style=\"color: #00af00; text-decoration-color: #00af00\">0</span> (unbuilt) │\n",
              "├─────────────────────────────────┼────────────────────────┼───────────────┤\n",
              "│ lstm_1 (<span style=\"color: #0087ff; text-decoration-color: #0087ff\">LSTM</span>)                   │ ?                      │   <span style=\"color: #00af00; text-decoration-color: #00af00\">0</span> (unbuilt) │\n",
              "├─────────────────────────────────┼────────────────────────┼───────────────┤\n",
              "│ dense_2 (<span style=\"color: #0087ff; text-decoration-color: #0087ff\">Dense</span>)                 │ ?                      │   <span style=\"color: #00af00; text-decoration-color: #00af00\">0</span> (unbuilt) │\n",
              "└─────────────────────────────────┴────────────────────────┴───────────────┘\n",
              "</pre>\n"
            ]
          },
          "metadata": {}
        },
        {
          "output_type": "display_data",
          "data": {
            "text/plain": [
              "\u001b[1m Total params: \u001b[0m\u001b[38;5;34m0\u001b[0m (0.00 B)\n"
            ],
            "text/html": [
              "<pre style=\"white-space:pre;overflow-x:auto;line-height:normal;font-family:Menlo,'DejaVu Sans Mono',consolas,'Courier New',monospace\"><span style=\"font-weight: bold\"> Total params: </span><span style=\"color: #00af00; text-decoration-color: #00af00\">0</span> (0.00 B)\n",
              "</pre>\n"
            ]
          },
          "metadata": {}
        },
        {
          "output_type": "display_data",
          "data": {
            "text/plain": [
              "\u001b[1m Trainable params: \u001b[0m\u001b[38;5;34m0\u001b[0m (0.00 B)\n"
            ],
            "text/html": [
              "<pre style=\"white-space:pre;overflow-x:auto;line-height:normal;font-family:Menlo,'DejaVu Sans Mono',consolas,'Courier New',monospace\"><span style=\"font-weight: bold\"> Trainable params: </span><span style=\"color: #00af00; text-decoration-color: #00af00\">0</span> (0.00 B)\n",
              "</pre>\n"
            ]
          },
          "metadata": {}
        },
        {
          "output_type": "display_data",
          "data": {
            "text/plain": [
              "\u001b[1m Non-trainable params: \u001b[0m\u001b[38;5;34m0\u001b[0m (0.00 B)\n"
            ],
            "text/html": [
              "<pre style=\"white-space:pre;overflow-x:auto;line-height:normal;font-family:Menlo,'DejaVu Sans Mono',consolas,'Courier New',monospace\"><span style=\"font-weight: bold\"> Non-trainable params: </span><span style=\"color: #00af00; text-decoration-color: #00af00\">0</span> (0.00 B)\n",
              "</pre>\n"
            ]
          },
          "metadata": {}
        }
      ]
    },
    {
      "cell_type": "code",
      "source": [
        "history = model.fit(xs, ys, epochs=50, verbose=1)"
      ],
      "metadata": {
        "colab": {
          "base_uri": "https://localhost:8080/"
        },
        "id": "hNW3YrQUjDjb",
        "outputId": "d425d338-812d-41b6-e2aa-55afc48c0d6b"
      },
      "execution_count": 43,
      "outputs": [
        {
          "output_type": "stream",
          "name": "stdout",
          "text": [
            "Epoch 1/50\n",
            "\u001b[1m3/3\u001b[0m \u001b[32m━━━━━━━━━━━━━━━━━━━━\u001b[0m\u001b[37m\u001b[0m \u001b[1m0s\u001b[0m 26ms/step - accuracy: 0.2993 - loss: 2.6763\n",
            "Epoch 2/50\n",
            "\u001b[1m3/3\u001b[0m \u001b[32m━━━━━━━━━━━━━━━━━━━━\u001b[0m\u001b[37m\u001b[0m \u001b[1m0s\u001b[0m 29ms/step - accuracy: 0.3579 - loss: 2.5370\n",
            "Epoch 3/50\n",
            "\u001b[1m3/3\u001b[0m \u001b[32m━━━━━━━━━━━━━━━━━━━━\u001b[0m\u001b[37m\u001b[0m \u001b[1m0s\u001b[0m 28ms/step - accuracy: 0.3622 - loss: 2.5253\n",
            "Epoch 4/50\n",
            "\u001b[1m3/3\u001b[0m \u001b[32m━━━━━━━━━━━━━━━━━━━━\u001b[0m\u001b[37m\u001b[0m \u001b[1m0s\u001b[0m 28ms/step - accuracy: 0.3484 - loss: 2.4348\n",
            "Epoch 5/50\n",
            "\u001b[1m3/3\u001b[0m \u001b[32m━━━━━━━━━━━━━━━━━━━━\u001b[0m\u001b[37m\u001b[0m \u001b[1m0s\u001b[0m 28ms/step - accuracy: 0.3093 - loss: 2.4541\n",
            "Epoch 6/50\n",
            "\u001b[1m3/3\u001b[0m \u001b[32m━━━━━━━━━━━━━━━━━━━━\u001b[0m\u001b[37m\u001b[0m \u001b[1m0s\u001b[0m 33ms/step - accuracy: 0.4074 - loss: 2.3191\n",
            "Epoch 7/50\n",
            "\u001b[1m3/3\u001b[0m \u001b[32m━━━━━━━━━━━━━━━━━━━━\u001b[0m\u001b[37m\u001b[0m \u001b[1m0s\u001b[0m 28ms/step - accuracy: 0.3860 - loss: 2.2924\n",
            "Epoch 8/50\n",
            "\u001b[1m3/3\u001b[0m \u001b[32m━━━━━━━━━━━━━━━━━━━━\u001b[0m\u001b[37m\u001b[0m \u001b[1m0s\u001b[0m 28ms/step - accuracy: 0.4485 - loss: 2.1674\n",
            "Epoch 9/50\n",
            "\u001b[1m3/3\u001b[0m \u001b[32m━━━━━━━━━━━━━━━━━━━━\u001b[0m\u001b[37m\u001b[0m \u001b[1m0s\u001b[0m 28ms/step - accuracy: 0.4704 - loss: 2.1931\n",
            "Epoch 10/50\n",
            "\u001b[1m3/3\u001b[0m \u001b[32m━━━━━━━━━━━━━━━━━━━━\u001b[0m\u001b[37m\u001b[0m \u001b[1m0s\u001b[0m 30ms/step - accuracy: 0.4764 - loss: 2.1754\n",
            "Epoch 11/50\n",
            "\u001b[1m3/3\u001b[0m \u001b[32m━━━━━━━━━━━━━━━━━━━━\u001b[0m\u001b[37m\u001b[0m \u001b[1m0s\u001b[0m 29ms/step - accuracy: 0.4980 - loss: 2.1011\n",
            "Epoch 12/50\n",
            "\u001b[1m3/3\u001b[0m \u001b[32m━━━━━━━━━━━━━━━━━━━━\u001b[0m\u001b[37m\u001b[0m \u001b[1m0s\u001b[0m 28ms/step - accuracy: 0.4900 - loss: 2.0272\n",
            "Epoch 13/50\n",
            "\u001b[1m3/3\u001b[0m \u001b[32m━━━━━━━━━━━━━━━━━━━━\u001b[0m\u001b[37m\u001b[0m \u001b[1m0s\u001b[0m 27ms/step - accuracy: 0.5180 - loss: 1.9878\n",
            "Epoch 14/50\n",
            "\u001b[1m3/3\u001b[0m \u001b[32m━━━━━━━━━━━━━━━━━━━━\u001b[0m\u001b[37m\u001b[0m \u001b[1m0s\u001b[0m 29ms/step - accuracy: 0.4745 - loss: 1.9565\n",
            "Epoch 15/50\n",
            "\u001b[1m3/3\u001b[0m \u001b[32m━━━━━━━━━━━━━━━━━━━━\u001b[0m\u001b[37m\u001b[0m \u001b[1m0s\u001b[0m 38ms/step - accuracy: 0.5649 - loss: 1.8967\n",
            "Epoch 16/50\n",
            "\u001b[1m3/3\u001b[0m \u001b[32m━━━━━━━━━━━━━━━━━━━━\u001b[0m\u001b[37m\u001b[0m \u001b[1m0s\u001b[0m 28ms/step - accuracy: 0.5355 - loss: 1.8797\n",
            "Epoch 17/50\n",
            "\u001b[1m3/3\u001b[0m \u001b[32m━━━━━━━━━━━━━━━━━━━━\u001b[0m\u001b[37m\u001b[0m \u001b[1m0s\u001b[0m 28ms/step - accuracy: 0.6375 - loss: 1.7905\n",
            "Epoch 18/50\n",
            "\u001b[1m3/3\u001b[0m \u001b[32m━━━━━━━━━━━━━━━━━━━━\u001b[0m\u001b[37m\u001b[0m \u001b[1m0s\u001b[0m 30ms/step - accuracy: 0.5378 - loss: 1.8240\n",
            "Epoch 19/50\n",
            "\u001b[1m3/3\u001b[0m \u001b[32m━━━━━━━━━━━━━━━━━━━━\u001b[0m\u001b[37m\u001b[0m \u001b[1m0s\u001b[0m 28ms/step - accuracy: 0.5926 - loss: 1.7786\n",
            "Epoch 20/50\n",
            "\u001b[1m3/3\u001b[0m \u001b[32m━━━━━━━━━━━━━━━━━━━━\u001b[0m\u001b[37m\u001b[0m \u001b[1m0s\u001b[0m 29ms/step - accuracy: 0.5435 - loss: 1.7455\n",
            "Epoch 21/50\n",
            "\u001b[1m3/3\u001b[0m \u001b[32m━━━━━━━━━━━━━━━━━━━━\u001b[0m\u001b[37m\u001b[0m \u001b[1m0s\u001b[0m 28ms/step - accuracy: 0.6239 - loss: 1.6483\n",
            "Epoch 22/50\n",
            "\u001b[1m3/3\u001b[0m \u001b[32m━━━━━━━━━━━━━━━━━━━━\u001b[0m\u001b[37m\u001b[0m \u001b[1m0s\u001b[0m 29ms/step - accuracy: 0.6360 - loss: 1.6833\n",
            "Epoch 23/50\n",
            "\u001b[1m3/3\u001b[0m \u001b[32m━━━━━━━━━━━━━━━━━━━━\u001b[0m\u001b[37m\u001b[0m \u001b[1m0s\u001b[0m 29ms/step - accuracy: 0.6949 - loss: 1.5883\n",
            "Epoch 24/50\n",
            "\u001b[1m3/3\u001b[0m \u001b[32m━━━━━━━━━━━━━━━━━━━━\u001b[0m\u001b[37m\u001b[0m \u001b[1m0s\u001b[0m 28ms/step - accuracy: 0.6734 - loss: 1.6270\n",
            "Epoch 25/50\n",
            "\u001b[1m3/3\u001b[0m \u001b[32m━━━━━━━━━━━━━━━━━━━━\u001b[0m\u001b[37m\u001b[0m \u001b[1m0s\u001b[0m 29ms/step - accuracy: 0.7106 - loss: 1.5601\n",
            "Epoch 26/50\n",
            "\u001b[1m3/3\u001b[0m \u001b[32m━━━━━━━━━━━━━━━━━━━━\u001b[0m\u001b[37m\u001b[0m \u001b[1m0s\u001b[0m 28ms/step - accuracy: 0.6695 - loss: 1.5515\n",
            "Epoch 27/50\n",
            "\u001b[1m3/3\u001b[0m \u001b[32m━━━━━━━━━━━━━━━━━━━━\u001b[0m\u001b[37m\u001b[0m \u001b[1m0s\u001b[0m 27ms/step - accuracy: 0.7303 - loss: 1.5059\n",
            "Epoch 28/50\n",
            "\u001b[1m3/3\u001b[0m \u001b[32m━━━━━━━━━━━━━━━━━━━━\u001b[0m\u001b[37m\u001b[0m \u001b[1m0s\u001b[0m 29ms/step - accuracy: 0.7537 - loss: 1.4732\n",
            "Epoch 29/50\n",
            "\u001b[1m3/3\u001b[0m \u001b[32m━━━━━━━━━━━━━━━━━━━━\u001b[0m\u001b[37m\u001b[0m \u001b[1m0s\u001b[0m 29ms/step - accuracy: 0.7422 - loss: 1.4365\n",
            "Epoch 30/50\n",
            "\u001b[1m3/3\u001b[0m \u001b[32m━━━━━━━━━━━━━━━━━━━━\u001b[0m\u001b[37m\u001b[0m \u001b[1m0s\u001b[0m 52ms/step - accuracy: 0.7636 - loss: 1.3996\n",
            "Epoch 31/50\n",
            "\u001b[1m3/3\u001b[0m \u001b[32m━━━━━━━━━━━━━━━━━━━━\u001b[0m\u001b[37m\u001b[0m \u001b[1m0s\u001b[0m 49ms/step - accuracy: 0.7560 - loss: 1.4104\n",
            "Epoch 32/50\n",
            "\u001b[1m3/3\u001b[0m \u001b[32m━━━━━━━━━━━━━━━━━━━━\u001b[0m\u001b[37m\u001b[0m \u001b[1m0s\u001b[0m 53ms/step - accuracy: 0.7440 - loss: 1.4289\n",
            "Epoch 33/50\n",
            "\u001b[1m3/3\u001b[0m \u001b[32m━━━━━━━━━━━━━━━━━━━━\u001b[0m\u001b[37m\u001b[0m \u001b[1m0s\u001b[0m 61ms/step - accuracy: 0.7853 - loss: 1.3429\n",
            "Epoch 34/50\n",
            "\u001b[1m3/3\u001b[0m \u001b[32m━━━━━━━━━━━━━━━━━━━━\u001b[0m\u001b[37m\u001b[0m \u001b[1m0s\u001b[0m 84ms/step - accuracy: 0.8012 - loss: 1.3187\n",
            "Epoch 35/50\n",
            "\u001b[1m3/3\u001b[0m \u001b[32m━━━━━━━━━━━━━━━━━━━━\u001b[0m\u001b[37m\u001b[0m \u001b[1m0s\u001b[0m 67ms/step - accuracy: 0.7954 - loss: 1.3232\n",
            "Epoch 36/50\n",
            "\u001b[1m3/3\u001b[0m \u001b[32m━━━━━━━━━━━━━━━━━━━━\u001b[0m\u001b[37m\u001b[0m \u001b[1m0s\u001b[0m 72ms/step - accuracy: 0.7697 - loss: 1.3298\n",
            "Epoch 37/50\n",
            "\u001b[1m3/3\u001b[0m \u001b[32m━━━━━━━━━━━━━━━━━━━━\u001b[0m\u001b[37m\u001b[0m \u001b[1m0s\u001b[0m 89ms/step - accuracy: 0.7677 - loss: 1.2927\n",
            "Epoch 38/50\n",
            "\u001b[1m3/3\u001b[0m \u001b[32m━━━━━━━━━━━━━━━━━━━━\u001b[0m\u001b[37m\u001b[0m \u001b[1m0s\u001b[0m 76ms/step - accuracy: 0.8030 - loss: 1.2786\n",
            "Epoch 39/50\n",
            "\u001b[1m3/3\u001b[0m \u001b[32m━━━━━━━━━━━━━━━━━━━━\u001b[0m\u001b[37m\u001b[0m \u001b[1m0s\u001b[0m 49ms/step - accuracy: 0.8110 - loss: 1.2584\n",
            "Epoch 40/50\n",
            "\u001b[1m3/3\u001b[0m \u001b[32m━━━━━━━━━━━━━━━━━━━━\u001b[0m\u001b[37m\u001b[0m \u001b[1m0s\u001b[0m 50ms/step - accuracy: 0.7798 - loss: 1.2930\n",
            "Epoch 41/50\n",
            "\u001b[1m3/3\u001b[0m \u001b[32m━━━━━━━━━━━━━━━━━━━━\u001b[0m\u001b[37m\u001b[0m \u001b[1m0s\u001b[0m 50ms/step - accuracy: 0.8503 - loss: 1.2292\n",
            "Epoch 42/50\n",
            "\u001b[1m3/3\u001b[0m \u001b[32m━━━━━━━━━━━━━━━━━━━━\u001b[0m\u001b[37m\u001b[0m \u001b[1m0s\u001b[0m 55ms/step - accuracy: 0.8406 - loss: 1.2043\n",
            "Epoch 43/50\n",
            "\u001b[1m3/3\u001b[0m \u001b[32m━━━━━━━━━━━━━━━━━━━━\u001b[0m\u001b[37m\u001b[0m \u001b[1m0s\u001b[0m 56ms/step - accuracy: 0.8404 - loss: 1.1284\n",
            "Epoch 44/50\n",
            "\u001b[1m3/3\u001b[0m \u001b[32m━━━━━━━━━━━━━━━━━━━━\u001b[0m\u001b[37m\u001b[0m \u001b[1m0s\u001b[0m 37ms/step - accuracy: 0.8387 - loss: 1.2011\n",
            "Epoch 45/50\n",
            "\u001b[1m3/3\u001b[0m \u001b[32m━━━━━━━━━━━━━━━━━━━━\u001b[0m\u001b[37m\u001b[0m \u001b[1m0s\u001b[0m 28ms/step - accuracy: 0.9074 - loss: 1.1497\n",
            "Epoch 46/50\n",
            "\u001b[1m3/3\u001b[0m \u001b[32m━━━━━━━━━━━━━━━━━━━━\u001b[0m\u001b[37m\u001b[0m \u001b[1m0s\u001b[0m 30ms/step - accuracy: 0.8523 - loss: 1.0913\n",
            "Epoch 47/50\n",
            "\u001b[1m3/3\u001b[0m \u001b[32m━━━━━━━━━━━━━━━━━━━━\u001b[0m\u001b[37m\u001b[0m \u001b[1m0s\u001b[0m 30ms/step - accuracy: 0.8759 - loss: 1.1066\n",
            "Epoch 48/50\n",
            "\u001b[1m3/3\u001b[0m \u001b[32m━━━━━━━━━━━━━━━━━━━━\u001b[0m\u001b[37m\u001b[0m \u001b[1m0s\u001b[0m 29ms/step - accuracy: 0.8780 - loss: 1.0561\n",
            "Epoch 49/50\n",
            "\u001b[1m3/3\u001b[0m \u001b[32m━━━━━━━━━━━━━━━━━━━━\u001b[0m\u001b[37m\u001b[0m \u001b[1m0s\u001b[0m 27ms/step - accuracy: 0.8603 - loss: 1.0990\n",
            "Epoch 50/50\n",
            "\u001b[1m3/3\u001b[0m \u001b[32m━━━━━━━━━━━━━━━━━━━━\u001b[0m\u001b[37m\u001b[0m \u001b[1m0s\u001b[0m 28ms/step - accuracy: 0.8817 - loss: 1.0342\n"
          ]
        }
      ]
    },
    {
      "cell_type": "code",
      "source": [
        "#3.\n",
        "def generate_text(seed_text, next_words, model, max_sequence_len):\n",
        "    for _ in range(next_words):\n",
        "        token_list = tokenizer.texts_to_sequences([seed_text])[0]\n",
        "        token_list = pad_sequences([token_list], maxlen=max_sequence_len-1, padding='pre')\n",
        "        predicted = model.predict(token_list, verbose=0)\n",
        "        predicted_word_index = np.argmax(predicted)\n",
        "\n",
        "        output_word = \"\"\n",
        "        for word, index in tokenizer.word_index.items():\n",
        "            if index == predicted_word_index:\n",
        "                output_word = word\n",
        "                break\n",
        "        seed_text += \" \" + output_word\n",
        "    return seed_text\n",
        "\n",
        "seed_word = \"Force\"\n",
        "print(generate_text(seed_word, 15, model, max_sequence_len))"
      ],
      "metadata": {
        "colab": {
          "base_uri": "https://localhost:8080/"
        },
        "id": "A366MpPUjIKF",
        "outputId": "945a01d1-0ea0-4279-fbde-f6e7341f5cd3"
      },
      "execution_count": 44,
      "outputs": [
        {
          "output_type": "stream",
          "name": "stdout",
          "text": [
            "Force a a a a legendary saga created created by lucas lucas lucas lucas lucas lucas\n"
          ]
        }
      ]
    }
  ]
}