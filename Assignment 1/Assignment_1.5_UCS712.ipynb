{
  "nbformat": 4,
  "nbformat_minor": 0,
  "metadata": {
    "colab": {
      "provenance": []
    },
    "kernelspec": {
      "name": "python3",
      "display_name": "Python 3"
    },
    "language_info": {
      "name": "python"
    }
  },
  "cells": [
    {
      "cell_type": "markdown",
      "source": [
        "Assingment 5.1: WAP to find max amoung three numbers and input from user. [Try max() function]"
      ],
      "metadata": {
        "id": "PTcKJG3-bfr_"
      }
    },
    {
      "cell_type": "code",
      "source": [
        "a=int(input('Enter first number: '))\n",
        "b=int(input('Enter second number: '))\n",
        "c=int(input('Enter third number: 4'))\n",
        "print(max(a,b,c))"
      ],
      "metadata": {
        "colab": {
          "base_uri": "https://localhost:8080/"
        },
        "id": "6h7TVoHhbh2A",
        "outputId": "0bddf0c0-9537-489a-bd82-cf4dbe22ff7e"
      },
      "execution_count": 3,
      "outputs": [
        {
          "output_type": "stream",
          "name": "stdout",
          "text": [
            "Enter first number: 5\n",
            "Enter second number: 3\n",
            "Enter third number: 9\n",
            "9\n"
          ]
        }
      ]
    },
    {
      "cell_type": "markdown",
      "source": [
        "Assingment 5.2: WAP to add all numbers divisible by 7 and 9 from 1 to n and n is given by the user."
      ],
      "metadata": {
        "id": "oDEormRMcC9o"
      }
    },
    {
      "cell_type": "code",
      "source": [
        "n=int(input('Enter a number: '))\n",
        "sum=0\n",
        "for i in range(1,n+1):\n",
        "    if i%7==0 and i%9==0:\n",
        "        sum=sum+i\n",
        "print(sum)"
      ],
      "metadata": {
        "colab": {
          "base_uri": "https://localhost:8080/"
        },
        "id": "K4zZIx3ccFdH",
        "outputId": "5582e251-c840-41b0-f695-178b0ddcf982"
      },
      "execution_count": 5,
      "outputs": [
        {
          "output_type": "stream",
          "name": "stdout",
          "text": [
            "Enter a number: 149\n",
            "189\n"
          ]
        }
      ]
    },
    {
      "cell_type": "markdown",
      "source": [
        "Assingment 5.3: WAP to add all prime numbers from 1 to n and n is given by the user."
      ],
      "metadata": {
        "id": "qZQ984lucmpW"
      }
    },
    {
      "cell_type": "code",
      "source": [
        "n=int(input('Enter a number: '))\n",
        "sum=0\n",
        "for i in range(1,n):\n",
        "    for j in range(2,i):\n",
        "        if i%j==0:\n",
        "            break\n",
        "    else:\n",
        "        sum=sum+i\n",
        "print(sum)"
      ],
      "metadata": {
        "colab": {
          "base_uri": "https://localhost:8080/"
        },
        "id": "h8goXpPKcnhv",
        "outputId": "8389b0c4-2df6-4e39-b486-e5eb47e800aa"
      },
      "execution_count": 8,
      "outputs": [
        {
          "output_type": "stream",
          "name": "stdout",
          "text": [
            "Enter a number: 10\n",
            "18\n"
          ]
        }
      ]
    }
  ]
}
