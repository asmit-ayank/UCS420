{
  "nbformat": 4,
  "nbformat_minor": 0,
  "metadata": {
    "colab": {
      "provenance": [],
      "authorship_tag": "ABX9TyPSoa+TGQUmWuec+dn2x8rg",
      "include_colab_link": true
    },
    "kernelspec": {
      "name": "python3",
      "display_name": "Python 3"
    },
    "language_info": {
      "name": "python"
    }
  },
  "cells": [
    {
      "cell_type": "markdown",
      "metadata": {
        "id": "view-in-github",
        "colab_type": "text"
      },
      "source": [
        "<a href=\"https://colab.research.google.com/github/asmit-ayank/UCS420/blob/main/Assignment%204/Assignment_4_UCS420.ipynb\" target=\"_parent\"><img src=\"https://colab.research.google.com/assets/colab-badge.svg\" alt=\"Open In Colab\"/></a>"
      ]
    },
    {
      "cell_type": "markdown",
      "source": [
        "**ASSIGNMENT 4**\n",
        "\n",
        "**Asmit Ayank**\n",
        "\n",
        "**102497002**\n",
        "\n"
      ],
      "metadata": {
        "id": "4rUmWAu2ts9B"
      }
    },
    {
      "cell_type": "markdown",
      "source": [
        "Q.1 Write a program to create a NumPy 1D-array with 5 elements and perform basic\n",
        "operations like:\n",
        "\n",
        "a) Addition of 2 in all the element\n",
        "b) Multiply 3 with all the elements\n",
        "c) Divide every element by 2"
      ],
      "metadata": {
        "id": "E1qKO-Fyt7ef"
      }
    },
    {
      "cell_type": "code",
      "source": [
        "import numpy as np\n",
        "arr = np.array([1, 2, 3, 4, 5])\n",
        "add_arr = arr + 2\n",
        "mult_arr = arr * 3\n",
        "div_arr = arr / 2\n",
        "\n",
        "print(\"Original Array:\", arr)\n",
        "print(\"After Addition:\", add_arr)\n",
        "print(\"After Multiplication:\", mult_arr)\n",
        "print(\"After Division:\", div_arr)"
      ],
      "metadata": {
        "colab": {
          "base_uri": "https://localhost:8080/"
        },
        "id": "lnBq4QY9t9VX",
        "outputId": "f899540b-72b1-4bcf-ca20-55a49e8aed05"
      },
      "execution_count": 1,
      "outputs": [
        {
          "output_type": "stream",
          "name": "stdout",
          "text": [
            "Original Array: [1 2 3 4 5]\n",
            "After Addition: [3 4 5 6 7]\n",
            "After Multiplication: [ 3  6  9 12 15]\n",
            "After Division: [0.5 1.  1.5 2.  2.5]\n"
          ]
        }
      ]
    },
    {
      "cell_type": "markdown",
      "source": [
        "Q.2 Questions on Basic NumPy Array:\n",
        "\n",
        "a) Reverse the NumPy array: arr = np.array([1, 2, 3, 6, 4, 5])\n",
        "b) Find the most frequent value and their indice(s) in the following arrays:\n",
        "i. x = np.array([1,2,3,4,5,1,2,1,1,1])\n",
        "ii. y = np.array([1, 1, 1, 2, 3, 4, 2, 4, 3, 3, ])"
      ],
      "metadata": {
        "id": "U4IrnhX0uHDH"
      }
    },
    {
      "cell_type": "code",
      "source": [
        "arr = np.array([1, 2, 3, 4, 5])\n",
        "import numpy as np\n",
        "res = np.flip(arr)\n",
        "\n",
        "print(\"(a) Final reversed array: \", res)\n",
        "x = np.array([1, 2, 3, 4, 5, 1, 2, 1, 1, 1])\n",
        "y = np.array([1, 1, 1, 2, 3, 4, 2, 4, 3, 3])\n",
        "def most_frequent(arr):\n",
        "    unique, counts = np.unique(arr, return_counts=True)\n",
        "    most_freq = unique[np.argmax(counts)]\n",
        "    indices = np.where(arr == most_freq)[0]\n",
        "    return most_freq, indices\n",
        "freq_x, indices_x = most_frequent(x)\n",
        "freq_y, indices_y = most_frequent(y)\n",
        "print(\"(b)\");\n",
        "print(\"(i) Most Frequent in x:\", freq_x, \"at indices\", indices_x)\n",
        "print(\"(ii) Most Frequent in y:\", freq_y, \"at indices\", indices_y)"
      ],
      "metadata": {
        "colab": {
          "base_uri": "https://localhost:8080/"
        },
        "id": "jA6K-xDiuKiX",
        "outputId": "daa78ef5-40c3-4ca9-9809-e8b3a2c45e10"
      },
      "execution_count": 2,
      "outputs": [
        {
          "output_type": "stream",
          "name": "stdout",
          "text": [
            "(a) Final reversed array:  [5 4 3 2 1]\n",
            "(b)\n",
            "(i) Most Frequent in x: 1 at indices [0 5 7 8 9]\n",
            "(ii) Most Frequent in y: 1 at indices [0 1 2]\n"
          ]
        }
      ]
    },
    {
      "cell_type": "markdown",
      "source": [
        "Q.3 For the given 2-D array arr=np.array([10, 20, 30], [40, 50, 60], [70, 80, 90]), access\n",
        "elements using row and column indices as follows:\n",
        "\n",
        "a) Access 1st row, 2nd column\n",
        "b) Access 3rd row, 1st column"
      ],
      "metadata": {
        "id": "Lo0QGuFcuSEH"
      }
    },
    {
      "cell_type": "code",
      "source": [
        "arr = np.array([[10, 20, 30], [40, 50, 60], [70, 80, 90]])\n",
        "element1 = arr[0, 1]\n",
        "element2 = arr[2, 0]\n",
        "\n",
        "print(\"(a) Element at (1st row, 2nd column):\", element1)\n",
        "print(\"(b) Element at (3rd row, 1st column):\", element2)"
      ],
      "metadata": {
        "colab": {
          "base_uri": "https://localhost:8080/"
        },
        "id": "-AyQfoTLuUO3",
        "outputId": "d2da090f-c2e9-4516-afbc-7c89db38c9df"
      },
      "execution_count": 3,
      "outputs": [
        {
          "output_type": "stream",
          "name": "stdout",
          "text": [
            "(a) Element at (1st row, 2nd column): 20\n",
            "(b) Element at (3rd row, 1st column): 70\n"
          ]
        }
      ]
    },
    {
      "cell_type": "markdown",
      "source": [
        "Q.4 Write program to create an 1-D NumPy array named <<Your Name>> with evenly\n",
        "spaced 25 numbers from 10 to 100 using linspace(). Print the dimensions of the array,\n",
        "shape, total elements, the data type of each element and total number of bytes consumed\n",
        "by the array. Find the transpose of this array using reshape() attribute. Can we do the same\n",
        "with T attribute?"
      ],
      "metadata": {
        "id": "cYskgvSBuXk3"
      }
    },
    {
      "cell_type": "code",
      "source": [
        "asmit = np.linspace(10, 100, 25)\n",
        "\n",
        "\n",
        "print(\"Array:\", asmit)\n",
        "print(\"Dimensions:\", asmit.ndim)\n",
        "print(\"Shape:\", asmit.shape)\n",
        "print(\"Total Elements:\", asmit.size)\n",
        "print(\"Data Type of Elements:\", asmit.dtype)\n",
        "print(\"Total Bytes Consumed:\", asmit.nbytes)\n",
        "asmit_transposed = asmit.reshape(25, 1)\n",
        "print(\"\\nTransposed using reshape():\\n\", asmit_transposed)\n",
        "\n",
        "\n",
        "asmit_t = asmit.T\n",
        "print(\"\\nTransposed using T attribute:\", asmit_t)\n",
        "print(\"Shape after T attribute:\", asmit_t.shape)"
      ],
      "metadata": {
        "colab": {
          "base_uri": "https://localhost:8080/"
        },
        "id": "KglLiuXauZvp",
        "outputId": "b74fc662-8aa5-43bc-b35e-afd5e1582cbd"
      },
      "execution_count": 4,
      "outputs": [
        {
          "output_type": "stream",
          "name": "stdout",
          "text": [
            "Array: [ 10.    13.75  17.5   21.25  25.    28.75  32.5   36.25  40.    43.75\n",
            "  47.5   51.25  55.    58.75  62.5   66.25  70.    73.75  77.5   81.25\n",
            "  85.    88.75  92.5   96.25 100.  ]\n",
            "Dimensions: 1\n",
            "Shape: (25,)\n",
            "Total Elements: 25\n",
            "Data Type of Elements: float64\n",
            "Total Bytes Consumed: 200\n",
            "\n",
            "Transposed using reshape():\n",
            " [[ 10.  ]\n",
            " [ 13.75]\n",
            " [ 17.5 ]\n",
            " [ 21.25]\n",
            " [ 25.  ]\n",
            " [ 28.75]\n",
            " [ 32.5 ]\n",
            " [ 36.25]\n",
            " [ 40.  ]\n",
            " [ 43.75]\n",
            " [ 47.5 ]\n",
            " [ 51.25]\n",
            " [ 55.  ]\n",
            " [ 58.75]\n",
            " [ 62.5 ]\n",
            " [ 66.25]\n",
            " [ 70.  ]\n",
            " [ 73.75]\n",
            " [ 77.5 ]\n",
            " [ 81.25]\n",
            " [ 85.  ]\n",
            " [ 88.75]\n",
            " [ 92.5 ]\n",
            " [ 96.25]\n",
            " [100.  ]]\n",
            "\n",
            "Transposed using T attribute: [ 10.    13.75  17.5   21.25  25.    28.75  32.5   36.25  40.    43.75\n",
            "  47.5   51.25  55.    58.75  62.5   66.25  70.    73.75  77.5   81.25\n",
            "  85.    88.75  92.5   96.25 100.  ]\n",
            "Shape after T attribute: (25,)\n"
          ]
        }
      ]
    },
    {
      "cell_type": "markdown",
      "source": [
        "Q5. Create a 2-D Array of three rows and four columns, named ucs420_<your_name>>\n",
        "with following values – 10, 20, 30, 40, 50, 60, 70, 80, 90, 15, 20, 35. Compute the mean,\n",
        "median, max, min, unique elements. Reshape the array to four rows and three columns and\n",
        "name it as reshaped_ ucs420_<your_name>>. Resize the array to two rows and three\n",
        "columns and name it as resized_ ucs420_<your_name>>."
      ],
      "metadata": {
        "id": "lsHUnjQLxJnN"
      }
    },
    {
      "cell_type": "code",
      "source": [
        "ucs420_asmit = np.array([[10, 20, 30, 40], [50, 60, 70, 80], [90, 15, 20, 35]])\n",
        "\n",
        "print(\"\\nMean:\", np.mean(ucs420_asmit))\n",
        "print(\"Median:\", np.median(ucs420_asmit))\n",
        "print(\"Max:\", np.max(ucs420_asmit))\n",
        "print(\"Min:\", np.min(ucs420_asmit))\n",
        "print(\"Unique Elements:\", np.unique(ucs420_asmit))\n",
        "\n",
        "reshaped_ucs420_asmit = ucs420_asmit.reshape(4, 3)\n",
        "print(\"\\nReshaped Array (4x3):\\n\", reshaped_ucs420_asmit)\n",
        "\n",
        "\n",
        "resized_ucs420_asmit = np.resize(ucs420_asmit, (2, 3))\n",
        "print(\"\\nResized Array (2x3):\\n\", resized_ucs420_asmit)"
      ],
      "metadata": {
        "colab": {
          "base_uri": "https://localhost:8080/"
        },
        "id": "7neQ8_P_xLxd",
        "outputId": "35eb93d4-b83f-4b28-b490-99f7aa9caaf0"
      },
      "execution_count": 7,
      "outputs": [
        {
          "output_type": "stream",
          "name": "stdout",
          "text": [
            "\n",
            "Mean: 43.333333333333336\n",
            "Median: 37.5\n",
            "Max: 90\n",
            "Min: 10\n",
            "Unique Elements: [10 15 20 30 35 40 50 60 70 80 90]\n",
            "\n",
            "Reshaped Array (4x3):\n",
            " [[10 20 30]\n",
            " [40 50 60]\n",
            " [70 80 90]\n",
            " [15 20 35]]\n",
            "\n",
            "Resized Array (2x3):\n",
            " [[10 20 30]\n",
            " [40 50 60]]\n"
          ]
        }
      ]
    }
  ]
}