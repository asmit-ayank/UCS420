{
  "nbformat": 4,
  "nbformat_minor": 0,
  "metadata": {
    "colab": {
      "provenance": []
    },
    "kernelspec": {
      "name": "python3",
      "display_name": "Python 3"
    },
    "language_info": {
      "name": "python"
    }
  },
  "cells": [
    {
      "cell_type": "markdown",
      "source": [
        "Create a List L that is defined as= [10, 20, 30, 40, 50, 60, 70, 80].\n",
        "i. WAP to add 200 and 300 to L.\n",
        "ii. WAP to remove 10 and 30 from L.\n",
        "iii. WAP to sort L in ascending order.\n",
        "iv. WAP to sort L in descending order."
      ],
      "metadata": {
        "id": "PAitPPMFapxu"
      }
    },
    {
      "cell_type": "code",
      "source": [
        "L=[10,20,30,40,50,60,70,80]\n",
        "L.append(200)\n",
        "L.append(300)\n",
        "print(\"List after adding 200 and 300\", L)\n",
        "L.remove(10)\n",
        "L.remove(30)\n",
        "print(\"List removing 10 and 30\", L)\n",
        "L.sort()\n",
        "print(\"List in ascending order\", L)\n",
        "L.sort(reverse=True)\n",
        "print(\"List in descending order\", L)"
      ],
      "metadata": {
        "colab": {
          "base_uri": "https://localhost:8080/"
        },
        "id": "J5_wldKVaq6V",
        "outputId": "026e2f91-419d-4cb9-ec29-b56cda230958"
      },
      "execution_count": 1,
      "outputs": [
        {
          "output_type": "stream",
          "name": "stdout",
          "text": [
            "List after adding 200 and 300 [10, 20, 30, 40, 50, 60, 70, 80, 200, 300]\n",
            "List removing 10 and 30 [20, 40, 50, 60, 70, 80, 200, 300]\n",
            "List in ascending order [20, 40, 50, 60, 70, 80, 200, 300]\n",
            "List in descending order [300, 200, 80, 70, 60, 50, 40, 20]\n"
          ]
        }
      ]
    }
  ]
}