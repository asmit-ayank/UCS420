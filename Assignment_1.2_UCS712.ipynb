{
  "nbformat": 4,
  "nbformat_minor": 0,
  "metadata": {
    "colab": {
      "provenance": []
    },
    "kernelspec": {
      "name": "python3",
      "display_name": "Python 3"
    },
    "language_info": {
      "name": "python"
    }
  },
  "cells": [
    {
      "cell_type": "markdown",
      "source": [
        "Assingment 2.1: WAP to add three numbers and print the result."
      ],
      "metadata": {
        "id": "SYILf_9DXqiT"
      }
    },
    {
      "cell_type": "code",
      "source": [
        "a=10\n",
        "b=20\n",
        "c=30\n",
        "d=a+b+c\n",
        "print(a, \" + \", b, \" + \", c,\" --> \", d)"
      ],
      "metadata": {
        "colab": {
          "base_uri": "https://localhost:8080/"
        },
        "id": "PSZ_biXkXsIL",
        "outputId": "b7eb4e61-58e2-4617-e35e-bd956b882edd"
      },
      "execution_count": 2,
      "outputs": [
        {
          "output_type": "stream",
          "name": "stdout",
          "text": [
            "10  +  20  +  30  -->  60\n"
          ]
        }
      ]
    },
    {
      "cell_type": "markdown",
      "source": [
        "Assingment 2.2: WAP to concatinate three strings and print the result."
      ],
      "metadata": {
        "id": "6kWXw2q_YYj6"
      }
    },
    {
      "cell_type": "code",
      "source": [
        "str1 = \"Sky\"\n",
        "str2 = \"is\"\n",
        "str3 = \"Blue\"\n",
        "result = str1 + str2 + str3\n",
        "print(str1, \" + \", str2, \" + \", str3,\" --> \", result)"
      ],
      "metadata": {
        "colab": {
          "base_uri": "https://localhost:8080/"
        },
        "id": "vyQ_gbhAZIIR",
        "outputId": "0cbf1fe6-9526-4e0b-a2e2-b96f60a15713"
      },
      "execution_count": 6,
      "outputs": [
        {
          "output_type": "stream",
          "name": "stdout",
          "text": [
            "Sky  +  is  +  Blue  -->  SkyisBlue\n"
          ]
        }
      ]
    }
  ]
}
