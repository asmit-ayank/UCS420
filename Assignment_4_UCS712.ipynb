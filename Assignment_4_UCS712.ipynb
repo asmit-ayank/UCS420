{
  "nbformat": 4,
  "nbformat_minor": 0,
  "metadata": {
    "colab": {
      "provenance": []
    },
    "kernelspec": {
      "name": "python3",
      "display_name": "Python 3"
    },
    "language_info": {
      "name": "python"
    }
  },
  "cells": [
    {
      "cell_type": "markdown",
      "source": [
        "Assingment 4.1: WAP to print the table of 7, 9."
      ],
      "metadata": {
        "id": "CNmkcaHBZj0q"
      }
    },
    {
      "cell_type": "code",
      "source": [
        "for i in range(1,11):\n",
        "\tprint (7,\" * \", i , \" = \", i * 7)"
      ],
      "metadata": {
        "colab": {
          "base_uri": "https://localhost:8080/"
        },
        "id": "1m5KnQ-hZlLR",
        "outputId": "c7cadf71-0021-418d-ec69-108ee68fe5e4"
      },
      "execution_count": 1,
      "outputs": [
        {
          "output_type": "stream",
          "name": "stdout",
          "text": [
            "7  *  1  =  7\n",
            "7  *  2  =  14\n",
            "7  *  3  =  21\n",
            "7  *  4  =  28\n",
            "7  *  5  =  35\n",
            "7  *  6  =  42\n",
            "7  *  7  =  49\n",
            "7  *  8  =  56\n",
            "7  *  9  =  63\n",
            "7  *  10  =  70\n"
          ]
        }
      ]
    },
    {
      "cell_type": "code",
      "source": [
        "for i in range(1,11):\n",
        "\tprint (9,\" * \", i , \" = \", i * 9)"
      ],
      "metadata": {
        "colab": {
          "base_uri": "https://localhost:8080/"
        },
        "id": "2J9QUfRdZzgp",
        "outputId": "c5bb4ffd-c7af-442a-e347-5c2968e07a41"
      },
      "execution_count": 2,
      "outputs": [
        {
          "output_type": "stream",
          "name": "stdout",
          "text": [
            "9  *  1  =  9\n",
            "9  *  2  =  18\n",
            "9  *  3  =  27\n",
            "9  *  4  =  36\n",
            "9  *  5  =  45\n",
            "9  *  6  =  54\n",
            "9  *  7  =  63\n",
            "9  *  8  =  72\n",
            "9  *  9  =  81\n",
            "9  *  10  =  90\n"
          ]
        }
      ]
    },
    {
      "cell_type": "markdown",
      "source": [
        "Assingment 4.2: WAP to print the table of n and n is given by user."
      ],
      "metadata": {
        "id": "RyEJYD-DZ5tA"
      }
    },
    {
      "cell_type": "code",
      "source": [
        "n=int(input(\"Enter any number: \"))\n",
        "for i in range(1,11):\n",
        "\tprint (n,\" * \", i , \" = \", i * n)"
      ],
      "metadata": {
        "colab": {
          "base_uri": "https://localhost:8080/"
        },
        "id": "wUX3Qhm-Z6XB",
        "outputId": "a92a2557-0ef0-4468-fa3d-f7dbd4d7af65"
      },
      "execution_count": 3,
      "outputs": [
        {
          "output_type": "stream",
          "name": "stdout",
          "text": [
            "Enter any number: 5\n",
            "5  *  1  =  5\n",
            "5  *  2  =  10\n",
            "5  *  3  =  15\n",
            "5  *  4  =  20\n",
            "5  *  5  =  25\n",
            "5  *  6  =  30\n",
            "5  *  7  =  35\n",
            "5  *  8  =  40\n",
            "5  *  9  =  45\n",
            "5  *  10  =  50\n"
          ]
        }
      ]
    },
    {
      "cell_type": "markdown",
      "source": [
        "Assingment 4.3: WAP to add all the numbers from 1 to n and n is given by user."
      ],
      "metadata": {
        "id": "fDRy2aVSaWJg"
      }
    },
    {
      "cell_type": "code",
      "source": [
        "sum=0\n",
        "n=int(input(\"Enter any number: \"))\n",
        "for i in range(1,n+1):\n",
        "\tsum=sum+i\n",
        "print (\"Sum is --> \",sum)"
      ],
      "metadata": {
        "colab": {
          "base_uri": "https://localhost:8080/"
        },
        "id": "3FxlAdhXaW6A",
        "outputId": "cd5bddd7-6d1c-4fbe-96d9-cfc4043f5ff2"
      },
      "execution_count": 7,
      "outputs": [
        {
          "output_type": "stream",
          "name": "stdout",
          "text": [
            "Enter any number: 5\n",
            "Sum is -->  15\n"
          ]
        }
      ]
    }
  ]
}